{
 "cells": [
  {
   "cell_type": "code",
   "execution_count": null,
   "metadata": {},
   "outputs": [],
   "source": [
    "# Enter your list of tickets in the form \n",
    "# KEY 01 02 03 04 05 MB 18\n",
    "# The values of KEY can be whatever you want to ID your individual tickets/numbers\n",
    "# The value in the MB column can be whatever you want. It's ignored but must be present\n",
    "# This input type was chosen because it matches what's on the ticket so you can\n",
    "# OCR big batches if you want\n",
    "\n",
    "tickets=\"\"\"11A. 04 08 21 45 51 MB: 18\n",
    "11B. 14 20 21 35 45 MB: 09\"\"\""
   ]
  },
  {
   "cell_type": "code",
   "execution_count": null,
   "metadata": {},
   "outputs": [],
   "source": [
    "# Converts every ticket into a dictionary of the format \n",
    "# ({'10', '37', '44', '62', '70'}, '01')\n",
    "\n",
    "t=tickets.split(\"\\n\")\n",
    "r=[x.strip().split(' ') for x in t]\n",
    "ours=dict([(x[0],(set(x[2:6]),x[7])) for x in r])"
   ]
  },
  {
   "cell_type": "code",
   "execution_count": null,
   "metadata": {},
   "outputs": [],
   "source": [
    "# Quick functions for matching, payout and simulation drawings\n",
    "\n",
    "def do_draw():\n",
    "    \"\"\"Create a sample drawing result using shuffled numbers\"\"\"\n",
    "    import random\n",
    "    b=[str(x).zfill(2) for x in range(1,71)]\n",
    "    m=[str(x).zfill(2) for x in range(1,26)]\n",
    "    random.shuffle(b)\n",
    "    random.shuffle(m)\n",
    "    sorted(b)\n",
    "    return set(b[0:5]),m[0]\n",
    "\n",
    "def compare_sets(d1, d2):\n",
    "    \"\"\"Return intersectionality of sets with a count of matching numbers\n",
    "    and a True or False for a matching yellow ball\"\"\"\n",
    "    return len(d1[0].intersection(d2[0])), d1[1]==d2[1]\n",
    "\n",
    "def payout(matches, jackpot):\n",
    "    \"\"\"Very simple jackpot calculator based on what we find here\n",
    "    http://www.megamillions.com/how-to-play\"\"\"\n",
    "    if matches[0]==5:\n",
    "        if matches[1]:\n",
    "            return jackpot\n",
    "        else:\n",
    "            return 1000000\n",
    "    if matches[0]==4:\n",
    "        if matches[1]:\n",
    "            return 10000\n",
    "        else:\n",
    "            return 500\n",
    "    if matches[0]==3:\n",
    "        if matches[1]:\n",
    "            return 200\n",
    "        else:\n",
    "            return 10\n",
    "    if matches[0] == 2:\n",
    "        if matches[1]:\n",
    "            return 10\n",
    "        else:\n",
    "            return 0\n",
    "    if matches[0] == 1:\n",
    "        if matches[1]:\n",
    "            return 4\n",
    "        else:\n",
    "            return 0\n",
    "    if matches[0] == 0:\n",
    "        if matches[1]:\n",
    "            return 2\n",
    "        else:\n",
    "            return 0\n",
    "    return 0\n"
   ]
  },
  {
   "cell_type": "code",
   "execution_count": null,
   "metadata": {
    "scrolled": false
   },
   "outputs": [],
   "source": [
    "# Run a simulation of n drawings against your set of tickets\n",
    "# To find the stastistical likely payouts\n",
    "\n",
    "winnings = []\n",
    "jackpot = 1e9 # billion dollars 10/19\n",
    "simulations = 1000\n",
    "\n",
    "for n in range(0,simulations):\n",
    "    draw1 = do_draw()\n",
    "    winnings.append(sum([payout(compare_sets(draw1,ours[x]), jackpot) for x in ours.keys()]))\n",
    "\n",
    "import pandas as pd\n",
    "pd.Series(winnings).describe()"
   ]
  },
  {
   "cell_type": "code",
   "execution_count": null,
   "metadata": {
    "scrolled": true
   },
   "outputs": [],
   "source": [
    "# At the actual drawing, fill in the real_draw variable below\n",
    "# With your own numbers to return the list of winning tickets\n",
    "# based on your key set along with the total amount won in\n",
    "# the entire ticket set\n",
    "\n",
    "jackpot = 1e9 # billion dollars 10/19\n",
    "real_draw = ({'10', '37', '44', '62', '70'}, '01')\n",
    "#real_draw = do_draw() # Uncomment to test\n",
    "winning_tickets = [x for x in ours.keys() if payout(compare_sets(real_draw,ours[x]), jackpot)>0]\n",
    "winning_amount = sum([payout(compare_sets(real_draw,ours[x]), jackpot) for x in ours.keys()])\n",
    "winning_amount, winning_tickets"
   ]
  }
 ],
 "metadata": {
  "kernelspec": {
   "display_name": "Python 3",
   "language": "python",
   "name": "python3"
  },
  "language_info": {
   "codemirror_mode": {
    "name": "ipython",
    "version": 3
   },
   "file_extension": ".py",
   "mimetype": "text/x-python",
   "name": "python",
   "nbconvert_exporter": "python",
   "pygments_lexer": "ipython3",
   "version": "3.6.4"
  }
 },
 "nbformat": 4,
 "nbformat_minor": 2
}
